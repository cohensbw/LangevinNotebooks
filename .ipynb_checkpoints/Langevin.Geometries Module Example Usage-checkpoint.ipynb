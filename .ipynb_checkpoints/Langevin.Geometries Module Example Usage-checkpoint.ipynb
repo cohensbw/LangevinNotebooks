{
 "cells": [
  {
   "cell_type": "code",
   "execution_count": 1,
   "metadata": {},
   "outputs": [],
   "source": [
    "using Revise"
   ]
  },
  {
   "cell_type": "code",
   "execution_count": 2,
   "metadata": {},
   "outputs": [
    {
     "name": "stderr",
     "output_type": "stream",
     "text": [
      "┌ Info: Recompiling stale cache file /home/benwcs/.julia/compiled/v1.1/Langevin/nUpf1.ji for Langevin [d56e79bc-9d16-11e9-1337-85b17f59915c]\n",
      "└ @ Base loading.jl:1184\n"
     ]
    }
   ],
   "source": [
    "using Langevin\n",
    "using Langevin.Geometries: Geometry\n",
    "using Langevin.Geometries: monkhorst_pack_mesh, calc_cell_pos!, calc_cell_pos, calc_site_pos!, calc_site_pos"
   ]
  },
  {
   "cell_type": "markdown",
   "metadata": {},
   "source": [
    "## Define Square Geometry"
   ]
  },
  {
   "cell_type": "code",
   "execution_count": 3,
   "metadata": {
    "scrolled": false
   },
   "outputs": [
    {
     "name": "stdout",
     "output_type": "stream",
     "text": [
      "Geometry{Float64}\n",
      "\n",
      "  ndim (# dimensions) = 2\n",
      "  norbits (# orbits per unit cell) = 1\n",
      "\n",
      "  lvecs [Lattice Vectors] =\n",
      "3×3 Array{Float64,2}:\n",
      " 1.0  0.0  0.0\n",
      " 0.0  1.0  0.0\n",
      " 0.0  0.0  1.0\n",
      "\n",
      "  rlvecs [Recip. Latt. Vectors] =\n",
      "3×3 Array{Float64,2}:\n",
      " 6.28319  0.0      0.0    \n",
      " 0.0      6.28319  0.0    \n",
      " 0.0      0.0      6.28319\n",
      "\n",
      "  bvecs [Basis Vectors] =\n",
      "3×1 Array{Float64,2}:\n",
      " 0.0\n",
      " 0.0\n",
      " 0.0\n"
     ]
    }
   ],
   "source": [
    "# number of dimensions\n",
    "ndim = 2\n",
    "\n",
    "# number of orbitals per unit cell\n",
    "norbits = 1\n",
    "\n",
    "# lattice vectors\n",
    "lvecs = [[1.0,0.0],\n",
    "         [0.0,1.0]]\n",
    "\n",
    "# basis vectors\n",
    "bvecs = [[0.0,0.0]]\n",
    "\n",
    "# defining square lattice geometry\n",
    "square = Geometry(ndim, norbits, lvecs, bvecs)\n",
    "\n",
    "print(square)"
   ]
  },
  {
   "cell_type": "markdown",
   "metadata": {},
   "source": [
    "## Define Square Geometry Using Float32"
   ]
  },
  {
   "cell_type": "code",
   "execution_count": 4,
   "metadata": {},
   "outputs": [
    {
     "name": "stdout",
     "output_type": "stream",
     "text": [
      "Geometry{Float32}\n",
      "\n",
      "  ndim (# dimensions) = 2\n",
      "  norbits (# orbits per unit cell) = 1\n",
      "\n",
      "  lvecs [Lattice Vectors] =\n",
      "3×3 Array{Float32,2}:\n",
      " 1.0  0.0  0.0\n",
      " 0.0  1.0  0.0\n",
      " 0.0  0.0  1.0\n",
      "\n",
      "  rlvecs [Recip. Latt. Vectors] =\n",
      "3×3 Array{Float32,2}:\n",
      " 6.28319  0.0      0.0    \n",
      " 0.0      6.28319  0.0    \n",
      " 0.0      0.0      6.28319\n",
      "\n",
      "  bvecs [Basis Vectors] =\n",
      "3×1 Array{Float32,2}:\n",
      " 0.0\n",
      " 0.0\n",
      " 0.0\n"
     ]
    }
   ],
   "source": [
    "# number of dimensions\n",
    "ndim = 2\n",
    "\n",
    "# number of orbitals per unit cell\n",
    "norbits = 1\n",
    "\n",
    "# lattice vectors\n",
    "lvecs = [Float32[1.0,0.0],\n",
    "         Float32[0.0,1.0]]\n",
    "\n",
    "# basis vectors\n",
    "bvecs = [Float32[0.0,0.0]]\n",
    "\n",
    "# defining square lattice geometry\n",
    "square32 = Geometry(ndim, norbits, lvecs, bvecs)\n",
    "\n",
    "print(square32)"
   ]
  },
  {
   "cell_type": "markdown",
   "metadata": {},
   "source": [
    "## Define Honeycomb Geometry"
   ]
  },
  {
   "cell_type": "code",
   "execution_count": 5,
   "metadata": {},
   "outputs": [
    {
     "name": "stdout",
     "output_type": "stream",
     "text": [
      "Geometry{Float64}\n",
      "\n",
      "  ndim (# dimensions) = 2\n",
      "  norbits (# orbits per unit cell) = 2\n",
      "\n",
      "  lvecs [Lattice Vectors] =\n",
      "3×3 Array{Float64,2}:\n",
      " 1.73205  0.866025  0.0\n",
      " 0.0      1.5       0.0\n",
      " 0.0      0.0       1.0\n",
      "\n",
      "  rlvecs [Recip. Latt. Vectors] =\n",
      "3×3 Array{Float64,2}:\n",
      " 3.6276  -2.0944   0.0    \n",
      " 0.0      4.18879  0.0    \n",
      " 0.0      0.0      6.28319\n",
      "\n",
      "  bvecs [Basis Vectors] =\n",
      "3×2 Array{Float64,2}:\n",
      " 0.0  0.0\n",
      " 0.0  1.0\n",
      " 0.0  0.0\n"
     ]
    }
   ],
   "source": [
    "# number of dimensions\n",
    "ndim = 2\n",
    "\n",
    "# number of orbitals per unit cell\n",
    "norbits = 2\n",
    "\n",
    "# lattice vectors\n",
    "lvecs = [[√3.0,     0.0],\n",
    "         [√3.0/2.0, 1.5]]\n",
    "\n",
    "# basis vectors\n",
    "bvecs = [[0.0,0.0],\n",
    "         [0.0,1.0]]\n",
    "\n",
    "# defining square lattice geometry\n",
    "honeycomb = Geometry(ndim, norbits, lvecs, bvecs)\n",
    "\n",
    "print(honeycomb)"
   ]
  },
  {
   "cell_type": "markdown",
   "metadata": {},
   "source": [
    "## Define Cubic Geometry"
   ]
  },
  {
   "cell_type": "code",
   "execution_count": 6,
   "metadata": {},
   "outputs": [
    {
     "name": "stdout",
     "output_type": "stream",
     "text": [
      "Geometry{Float64}\n",
      "\n",
      "  ndim (# dimensions) = 3\n",
      "  norbits (# orbits per unit cell) = 1\n",
      "\n",
      "  lvecs [Lattice Vectors] =\n",
      "3×3 Array{Float64,2}:\n",
      " 1.0  0.0  0.0\n",
      " 0.0  1.0  0.0\n",
      " 0.0  0.0  1.0\n",
      "\n",
      "  rlvecs [Recip. Latt. Vectors] =\n",
      "3×3 Array{Float64,2}:\n",
      " 6.28319  0.0      0.0    \n",
      " 0.0      6.28319  0.0    \n",
      " 0.0      0.0      6.28319\n",
      "\n",
      "  bvecs [Basis Vectors] =\n",
      "3×1 Array{Float64,2}:\n",
      " 0.0\n",
      " 0.0\n",
      " 0.0\n"
     ]
    }
   ],
   "source": [
    "# number of dimensions\n",
    "ndim = 3\n",
    "\n",
    "# number of orbitals per unit cell\n",
    "norbits = 1\n",
    "\n",
    "# lattice vectors\n",
    "lvecs = [[1.0,0.0,0.0],\n",
    "         [0.0,1.0,0.0],\n",
    "         [0.0,0.0,1.0]]\n",
    "\n",
    "# basis vectors\n",
    "bvecs = [[0.0,0.0,0.0]]\n",
    "\n",
    "# defining square lattice geometry\n",
    "cubic = Geometry(ndim, norbits, lvecs, bvecs)\n",
    "\n",
    "print(cubic)"
   ]
  },
  {
   "cell_type": "markdown",
   "metadata": {},
   "source": [
    "## Construct Monkhorst-Pack Meshgrid of k-points in Brillouin Zone"
   ]
  },
  {
   "cell_type": "code",
   "execution_count": 13,
   "metadata": {
    "scrolled": false
   },
   "outputs": [
    {
     "data": {
      "text/plain": [
       "3×100 Array{Float64,2}:\n",
       " 0.0  0.36276  0.72552  1.08828  1.45104  …  0.654364  1.01712  1.37988\n",
       " 0.0  0.0      0.0      0.0      0.0         3.76991   3.76991  3.76991\n",
       " 0.0  0.0      0.0      0.0      0.0         0.0       0.0      0.0    "
      ]
     },
     "execution_count": 13,
     "metadata": {},
     "output_type": "execute_result"
    }
   ],
   "source": [
    "monkhorst_pack_mesh(honeycomb,10,10,1)"
   ]
  },
  {
   "cell_type": "markdown",
   "metadata": {},
   "source": [
    "## Calcuate Unit Cell Position"
   ]
  },
  {
   "cell_type": "code",
   "execution_count": 25,
   "metadata": {},
   "outputs": [
    {
     "data": {
      "text/plain": [
       "3-element Array{Float64,1}:\n",
       " 2.0\n",
       " 1.0\n",
       " 3.0"
      ]
     },
     "execution_count": 25,
     "metadata": {},
     "output_type": "execute_result"
    }
   ],
   "source": [
    "calc_cell_pos(cubic,2,1,3)"
   ]
  },
  {
   "cell_type": "code",
   "execution_count": 26,
   "metadata": {},
   "outputs": [
    {
     "data": {
      "text/plain": [
       "3-element Array{Float64,1}:\n",
       " 2.0\n",
       " 1.0\n",
       " 3.0"
      ]
     },
     "execution_count": 26,
     "metadata": {},
     "output_type": "execute_result"
    }
   ],
   "source": [
    "pos = zeros(3)\n",
    "calc_cell_pos!(pos,cubic,2,1,3)\n",
    "pos"
   ]
  },
  {
   "cell_type": "markdown",
   "metadata": {},
   "source": [
    "## Calculate Site Positions"
   ]
  },
  {
   "cell_type": "code",
   "execution_count": 27,
   "metadata": {},
   "outputs": [
    {
     "data": {
      "text/plain": [
       "3-element Array{Float64,1}:\n",
       " 2.598076211353316\n",
       " 1.5              \n",
       " 0.0              "
      ]
     },
     "execution_count": 27,
     "metadata": {},
     "output_type": "execute_result"
    }
   ],
   "source": [
    "calc_site_pos(honeycomb,1,1,1)"
   ]
  },
  {
   "cell_type": "code",
   "execution_count": 28,
   "metadata": {},
   "outputs": [
    {
     "data": {
      "text/plain": [
       "3-element Array{Float64,1}:\n",
       " 2.598076211353316\n",
       " 2.5              \n",
       " 0.0              "
      ]
     },
     "execution_count": 28,
     "metadata": {},
     "output_type": "execute_result"
    }
   ],
   "source": [
    "pos = zeros(3)\n",
    "calc_site_pos!(pos,honeycomb,2,1,1)\n",
    "pos"
   ]
  },
  {
   "cell_type": "code",
   "execution_count": 14,
   "metadata": {},
   "outputs": [
    {
     "data": {
      "text/plain": [
       "100-element Array{Float64,1}:\n",
       " 1.0\n",
       " 1.0\n",
       " 1.0\n",
       " 1.0\n",
       " 1.0\n",
       " 1.0\n",
       " 1.0\n",
       " 1.0\n",
       " 1.0\n",
       " 1.0\n",
       " 1.0\n",
       " 1.0\n",
       " 1.0\n",
       " ⋮  \n",
       " 1.0\n",
       " 1.0\n",
       " 1.0\n",
       " 1.0\n",
       " 1.0\n",
       " 1.0\n",
       " 1.0\n",
       " 1.0\n",
       " 1.0\n",
       " 1.0\n",
       " 1.0\n",
       " 1.0"
      ]
     },
     "execution_count": 14,
     "metadata": {},
     "output_type": "execute_result"
    }
   ],
   "source": [
    "t = ones(100)"
   ]
  },
  {
   "cell_type": "code",
   "execution_count": null,
   "metadata": {},
   "outputs": [],
   "source": []
  }
 ],
 "metadata": {
  "kernelspec": {
   "display_name": "Julia 1.1.1",
   "language": "julia",
   "name": "julia-1.1"
  },
  "language_info": {
   "file_extension": ".jl",
   "mimetype": "application/julia",
   "name": "julia",
   "version": "1.1.1"
  }
 },
 "nbformat": 4,
 "nbformat_minor": 2
}
