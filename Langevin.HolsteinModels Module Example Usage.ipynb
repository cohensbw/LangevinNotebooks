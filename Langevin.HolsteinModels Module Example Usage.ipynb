{
 "cells": [
  {
   "cell_type": "code",
   "execution_count": 1,
   "metadata": {},
   "outputs": [],
   "source": [
    "using Revise"
   ]
  },
  {
   "cell_type": "code",
   "execution_count": 3,
   "metadata": {},
   "outputs": [
    {
     "name": "stderr",
     "output_type": "stream",
     "text": [
      "┌ Info: Precompiling Langevin [d56e79bc-9d16-11e9-1337-85b17f59915c]\n",
      "└ @ Base loading.jl:1186\n"
     ]
    }
   ],
   "source": [
    "using Statistics\n",
    "using Langevin\n",
    "using Langevin.Geometries: Geometry\n",
    "using Langevin.Lattices: Lattice\n",
    "using Langevin.HolsteinModels: HolsteinModel\n",
    "using Langevin.HolsteinModels: assign_μ!, assign_ω!, assign_λ!\n",
    "using Langevin.HolsteinModels: assign_tij!, assign_ωij!, assign_λij!"
   ]
  },
  {
   "cell_type": "markdown",
   "metadata": {},
   "source": [
    "## Defining Simple Square Lattice Holstein Model"
   ]
  },
  {
   "cell_type": "code",
   "execution_count": 43,
   "metadata": {
    "scrolled": false
   },
   "outputs": [
    {
     "name": "stdout",
     "output_type": "stream",
     "text": [
      "\u001b[36m\u001b[1mHolsteinModel{Float64}\u001b[22m\u001b[39m\n",
      "\n",
      "\u001b[0m\u001b[1mGeometry{Float64}\u001b[22m\n",
      "\n",
      "•ndim (# dimensions) = 2\n",
      "•norbits (# orbits per unit cell) = 1\n",
      "\n",
      "•lvecs [Lattice Vectors] =\n",
      "3×3 Array{Float64,2}:\n",
      " 1.0  0.0  0.0\n",
      " 0.0  1.0  0.0\n",
      " 0.0  0.0  1.0\n",
      "\n",
      "•rlvecs [Recip. Latt. Vectors] =\n",
      "3×3 Array{Float64,2}:\n",
      " 6.28319  0.0      0.0    \n",
      " 0.0      6.28319  0.0    \n",
      " 0.0      0.0      6.28319\n",
      "\n",
      "•bvecs [Basis Vectors] =\n",
      "3×1 Array{Float64,2}:\n",
      " 0.0\n",
      " 0.0\n",
      " 0.0\n",
      "\n",
      "\u001b[0m\u001b[1mLattice{Float64}\u001b[22m\n",
      "\n",
      "•ndim = 2\n",
      "•norbits = 1\n",
      "•ncells = 100\n",
      "•nsites = 100\n",
      "•dims = [L1, L2, L3] = [10, 10, 1]\n",
      "\n",
      "•site_to_orbit: Array{Int64,1}(100,)\n",
      "•site_to_cell: Array{Int64,1}(100,)\n",
      "\n",
      "•cell_loc =\n",
      "3×100 Array{Int64,2}:\n",
      " 0  1  2  3  4  5  6  7  8  9  0  1  2  …  8  9  0  1  2  3  4  5  6  7  8  9\n",
      " 0  0  0  0  0  0  0  0  0  0  1  1  1     8  8  9  9  9  9  9  9  9  9  9  9\n",
      " 0  0  0  0  0  0  0  0  0  0  0  0  0     0  0  0  0  0  0  0  0  0  0  0  0\n",
      "\n",
      "•positions =\n",
      "3×100 Array{Float64,2}:\n",
      " 0.0  1.0  2.0  3.0  4.0  5.0  6.0  7.0  …  3.0  4.0  5.0  6.0  7.0  8.0  9.0\n",
      " 0.0  0.0  0.0  0.0  0.0  0.0  0.0  0.0     9.0  9.0  9.0  9.0  9.0  9.0  9.0\n",
      " 0.0  0.0  0.0  0.0  0.0  0.0  0.0  0.0     0.0  0.0  0.0  0.0  0.0  0.0  0.0\n",
      "\n",
      "•kpoints =\n",
      "3×100 Array{Float64,2}:\n",
      " 0.0  0.628319  1.25664  1.88496  …  3.76991  4.39823  5.02655  5.65487\n",
      " 0.0  0.0       0.0      0.0         5.65487  5.65487  5.65487  5.65487\n",
      " 0.0  0.0       0.0      0.0         0.0      0.0      0.0      0.0    \n",
      "\n",
      "\u001b[0m\u001b[1mQuantumLattice{Float64}\u001b[22m\n",
      "\n",
      "•β = 3.0\n",
      "•Δτ = 0.1\n",
      "•Lτ = 30\n",
      "•nsites = 100\n",
      "•nindices = 3000\n",
      "\n",
      "•index_to_τ: Array{Int64,1}(3000,)\n",
      "•index_to_site: Array{Int64,1}(3000,)\n",
      "•to_index: Array{Int64,2}(100, 30)\n",
      "•trans_equiv_sets: Array{UInt16,7}(2, 100, 1, 1, 10, 10, 1)\n",
      "\n",
      "\u001b[0m\u001b[1mParameters\u001b[22m\n",
      "\n",
      "•μ, orbit = 1, mean = 0.0, std = 0.0\n",
      "•ω, orbit = 1, mean = 1.0, std = 0.0\n",
      "•λ, orbit = 1, mean = 1.0, std = 0.0\n",
      "\n",
      "•tij: Array{Float64,1}(200,), mean = 1.0, std = 0.0\n",
      "\n",
      "•neighbor_table_tij =\n",
      "2×200 Array{Int64,2}:\n",
      " 1  2  3  4  5  6  7  8   9  10  11  …  92  93  94  95  96  97  98  99  100\n",
      " 2  3  4  5  6  7  8  9  10   1  12      2   3   4   5   6   7   8   9   10\n"
     ]
    }
   ],
   "source": [
    "# number of dimensions\n",
    "ndim = 2\n",
    "\n",
    "# number of orbitals per unit cell\n",
    "norbits = 1\n",
    "\n",
    "# lattice vectors\n",
    "lvecs = [[1.0,0.0],\n",
    "         [0.0,1.0]]\n",
    "\n",
    "# basis vectors\n",
    "bvecs = [[0.0,0.0]]\n",
    "\n",
    "# defining square lattice geometry\n",
    "geom = Geometry(ndim, norbits, lvecs, bvecs)\n",
    "\n",
    "# defining lattice size\n",
    "L = 10\n",
    "\n",
    "# constructing finite square lattice\n",
    "lattice = Lattice(geom,L)\n",
    "\n",
    "# discretization\n",
    "Δτ = 0.1\n",
    "\n",
    "# setting temperature\n",
    "β = 3.0\n",
    "\n",
    "# constructing holstein model\n",
    "holstein = HolsteinModel(geom,lattice,β,Δτ,false)\n",
    "\n",
    "# assigning chemical potential of 0 to each site\n",
    "assign_μ!(holstein, 0.0, 0.0)\n",
    "\n",
    "# assigning phonon frequency of 1 to each site\n",
    "assign_ω!(holstein, 1.0, 0.0)\n",
    "\n",
    "# assigning electron-phonon couplong of 1 to each site\n",
    "assign_λ!(holstein, 1.0, 0.0)\n",
    "\n",
    "# adding hopping parameters in x direction\n",
    "assign_tij!(holstein, 1.0, 0.0, 1, 1, [1,0,0])\n",
    "\n",
    "# adding hopping parameters in y direction\n",
    "assign_tij!(holstein, 1.0, 0.0, 1, 1, [0,1,0])\n",
    "\n",
    "print(holstein)"
   ]
  },
  {
   "cell_type": "code",
   "execution_count": null,
   "metadata": {},
   "outputs": [],
   "source": []
  }
 ],
 "metadata": {
  "kernelspec": {
   "display_name": "Julia 1.1.1",
   "language": "julia",
   "name": "julia-1.1"
  },
  "language_info": {
   "file_extension": ".jl",
   "mimetype": "application/julia",
   "name": "julia",
   "version": "1.1.1"
  }
 },
 "nbformat": 4,
 "nbformat_minor": 2
}
