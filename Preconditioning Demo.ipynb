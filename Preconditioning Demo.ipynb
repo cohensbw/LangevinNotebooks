{
 "cells": [
  {
   "cell_type": "code",
   "execution_count": 19,
   "metadata": {},
   "outputs": [],
   "source": [
    "using Revise\n",
    "\n",
    "using Langevin\n",
    "using Langevin.Preconditioners: MatrixMOp, BlockPreconditioner, FourierPreconditioner\n",
    "\n",
    "using LinearAlgebra\n",
    "using IterativeSolvers\n",
    "using SparseArrays\n",
    "using Random\n",
    "\n",
    "import Serialization\n",
    "# holstein = Serialization.deserialize(\"holstein_6x6_cond106.dat\")\n",
    "holstein = Serialization.deserialize(\"holstein_6x6_cdw.dat\")\n",
    "\n",
    "\n",
    "M = Array(Langevin.HolsteinModels.construct_M(holstein))\n",
    "M_op = MatrixMOp(holstein)\n",
    "P_op = BlockPreconditioner(holstein, subtol=1e-3)\n",
    "PF_op = FourierPreconditioner(holstein)\n",
    ";"
   ]
  },
  {
   "cell_type": "code",
   "execution_count": 11,
   "metadata": {},
   "outputs": [
    {
     "data": {
      "text/plain": [
       "91.15039671895502"
      ]
     },
     "execution_count": 11,
     "metadata": {},
     "output_type": "execute_result"
    }
   ],
   "source": [
    "cond(M)"
   ]
  },
  {
   "cell_type": "markdown",
   "metadata": {},
   "source": [
    "# Accuracy measurements"
   ]
  },
  {
   "cell_type": "code",
   "execution_count": 12,
   "metadata": {},
   "outputs": [],
   "source": [
    "Random.seed!(0)\n",
    "b = randn(size(holstein)[1])\n",
    "\n",
    "x_exact = M \\ b\n",
    "x_approx = fill!(similar(b), 0)\n",
    ";"
   ]
  },
  {
   "cell_type": "code",
   "execution_count": 47,
   "metadata": {},
   "outputs": [
    {
     "name": "stdout",
     "output_type": "stream",
     "text": [
      "CG iters 232\n",
      "True error 0.003097070204125516\n"
     ]
    }
   ],
   "source": [
    "rhs = M' * b\n",
    "fill!(x_approx, 0)\n",
    "x1 = IterativeSolvers.cg!(x_approx, holstein, rhs, tol=1e-4, log=true, maxiter=1000)\n",
    "println(\"CG iters \", x1[2].iters)\n",
    "println(\"True error \", norm(x_approx - x_exact) / norm(x_exact))"
   ]
  },
  {
   "cell_type": "code",
   "execution_count": 66,
   "metadata": {},
   "outputs": [
    {
     "name": "stdout",
     "output_type": "stream",
     "text": [
      "GMRES with BLOCK preconditioner\n",
      "Mat-vec products 9\n",
      "True error 0.0028636745562894915\n"
     ]
    }
   ],
   "source": [
    "fill!(x_approx, 0)\n",
    "x2 = IterativeSolvers.gmres!(x_approx, M_op, b, Pr=P_op, tol=2e-3, restart=10, log=true, maxiter=100, initially_zero=true)\n",
    "\n",
    "println(\"GMRES with BLOCK preconditioner\")\n",
    "println(\"Mat-vec products \", x2[2].mvps)\n",
    "println(\"True error \", norm(x_approx - x_exact) / norm(x_exact))"
   ]
  },
  {
   "cell_type": "code",
   "execution_count": 63,
   "metadata": {},
   "outputs": [
    {
     "name": "stdout",
     "output_type": "stream",
     "text": [
      "BICGSTAB with BLOCK preconditioner\n",
      "Mat-vec products 12\n",
      "True error 0.0020995347433988266\n"
     ]
    }
   ],
   "source": [
    "fill!(x_approx, 0)\n",
    "x2 = IterativeSolvers.bicgstabl!(x_approx, M_op, b, 1, Pl=P_op, tol=2e-3, log=true, max_mv_products=100, initial_zero=true)\n",
    "\n",
    "println(\"BICGSTAB with BLOCK preconditioner\")\n",
    "println(\"Mat-vec products \", x2[2].mvps)\n",
    "println(\"True error \", norm(x_approx - x_exact) / norm(x_exact))"
   ]
  },
  {
   "cell_type": "code",
   "execution_count": 83,
   "metadata": {},
   "outputs": [
    {
     "name": "stdout",
     "output_type": "stream",
     "text": [
      "GMRES with RIGHT Fourier preconditioner\n",
      "Mat-vec products 61\n",
      "True error 0.002239675656949757\n"
     ]
    }
   ],
   "source": [
    "# Langevin.Preconditioners.compute_α!(PF_op, const_V=true)\n",
    "\n",
    "fill!(x_approx, 0)\n",
    "x2 = IterativeSolvers.gmres!(x_approx, M_op, b, Pr=PF_op, tol=1e-3, restart=10, log=true, maxiter=100, initially_zero=true)\n",
    "\n",
    "println(\"GMRES with RIGHT Fourier preconditioner\")\n",
    "println(\"Mat-vec products \", x2[2].mvps)\n",
    "println(\"True error \", norm(x_approx - x_exact) / norm(x_exact))"
   ]
  },
  {
   "cell_type": "code",
   "execution_count": 43,
   "metadata": {},
   "outputs": [
    {
     "name": "stdout",
     "output_type": "stream",
     "text": [
      "GMRES with LEFT Fourier preconditioner\n",
      "Mat-vec products 62\n",
      "True error 0.00286928021452819\n"
     ]
    }
   ],
   "source": [
    "fill!(x_approx, 0)\n",
    "x2 = IterativeSolvers.gmres!(x_approx, M_op, b, Pl=PF_op, tol=2e-3, restart=10, log=true, maxiter=100, initially_zero=true)\n",
    "\n",
    "println(\"GMRES with LEFT Fourier preconditioner\")\n",
    "println(\"Mat-vec products \", x2[2].mvps)\n",
    "println(\"True error \", norm(x_approx - x_exact) / norm(x_exact))"
   ]
  },
  {
   "cell_type": "code",
   "execution_count": 53,
   "metadata": {},
   "outputs": [
    {
     "name": "stdout",
     "output_type": "stream",
     "text": [
      "BiCGStab(1) with Fourier preconditioner\n",
      "Mat-vec products 100\n",
      "True error 0.7359500328254452\n"
     ]
    }
   ],
   "source": [
    "# BiCGStab uses internal randomness. :-(\n",
    "# Set seed to get reproducible results.\n",
    "Random.seed!(0)\n",
    "\n",
    "fill!(x_approx, 0)\n",
    "x2 = IterativeSolvers.bicgstabl!(x_approx, M_op, b, 1, Pl=PF_op, tol=1e-2, log=true, max_mv_products=100, initial_zero=true)\n",
    "\n",
    "println(\"BiCGStab(1) with Fourier preconditioner\")\n",
    "println(\"Mat-vec products \", x2[2].mvps)\n",
    "println(\"True error \", norm(x_approx - x_exact) / norm(x_exact))"
   ]
  },
  {
   "cell_type": "markdown",
   "metadata": {},
   "source": [
    "# Benchmarking"
   ]
  },
  {
   "cell_type": "code",
   "execution_count": 54,
   "metadata": {},
   "outputs": [
    {
     "name": "stdout",
     "output_type": "stream",
     "text": [
      "CG time...\n",
      "  2.651 ms (940 allocations: 91.02 KiB)\n"
     ]
    }
   ],
   "source": [
    "using BenchmarkTools\n",
    "\n",
    "println(\"CG time...\")\n",
    "@btime begin\n",
    "    fill!(x_approx, 0)\n",
    "    IterativeSolvers.cg!(x_approx, holstein, b, tol=1e-4, log=true, maxiter=1000)\n",
    "end\n",
    ";"
   ]
  },
  {
   "cell_type": "code",
   "execution_count": 70,
   "metadata": {},
   "outputs": [
    {
     "name": "stdout",
     "output_type": "stream",
     "text": [
      "GMRES/Block time...\n",
      "  3.917 ms (36132 allocations: 2.37 MiB)\n"
     ]
    }
   ],
   "source": [
    "println(\"GMRES/Block time...\")\n",
    "@btime begin\n",
    "    fill!(x_approx, 0)\n",
    "    IterativeSolvers.gmres!(x_approx, M_op, b, Pr=P_op, tol=1e-3, restart=10, maxiter=100, initially_zero=true)\n",
    "end\n",
    ";"
   ]
  },
  {
   "cell_type": "code",
   "execution_count": 74,
   "metadata": {},
   "outputs": [
    {
     "name": "stdout",
     "output_type": "stream",
     "text": [
      "BiCGStab(1)/Block time...\n",
      "  4.001 ms (39714 allocations: 2.86 MiB)\n"
     ]
    }
   ],
   "source": [
    "println(\"BiCGStab(1)/Block time...\")\n",
    "\n",
    "Random.seed!(0)\n",
    "\n",
    "@btime begin\n",
    "    fill!(x_approx, 0)\n",
    "    x2 = IterativeSolvers.bicgstabl!(x_approx, M_op, b, 1, Pl=P_op, tol=2e-3, max_mv_products=100, initial_zero=true)\n",
    "end\n",
    ";"
   ]
  },
  {
   "cell_type": "code",
   "execution_count": 57,
   "metadata": {},
   "outputs": [
    {
     "name": "stdout",
     "output_type": "stream",
     "text": [
      "GMRES/Fourier time...\n",
      "  3.455 ms (635 allocations: 304.08 KiB)\n"
     ]
    }
   ],
   "source": [
    "println(\"GMRES/Fourier time...\")\n",
    "@btime begin\n",
    "    fill!(x_approx, 0)\n",
    "    IterativeSolvers.gmres!(x_approx, M_op, b, Pr=PF_op, tol=2e-3, restart=10, maxiter=100, initially_zero=true)\n",
    "end\n",
    ";"
   ]
  },
  {
   "cell_type": "code",
   "execution_count": 69,
   "metadata": {},
   "outputs": [
    {
     "name": "stdout",
     "output_type": "stream",
     "text": [
      "GMRES/Fourier time, prealloc...\n",
      "  3.333 ms (618 allocations: 31.81 KiB)\n"
     ]
    }
   ],
   "source": [
    "println(\"GMRES/Fourier time, prealloc...\")\n",
    "\n",
    "gmres = IterativeSolvers.gmres_iterable!(x_approx, M_op, b, Pr=PF_op, tol=2e-3, restart=10, maxiter=100, initially_zero=true)\n",
    "\n",
    "@btime begin\n",
    "    fill!(x_approx, 0)\n",
    "    Langevin.Preconditioners.reset_gmres_iterable!(gmres, x_approx, M_op, b, tol=2e-3, initially_zero=true)\n",
    "    Langevin.Preconditioners.run_gmres_iterable!(gmres)\n",
    "end\n",
    ";"
   ]
  },
  {
   "cell_type": "markdown",
   "metadata": {},
   "source": [
    "## For reference, cost of raw FFT and raw precond ops"
   ]
  },
  {
   "cell_type": "code",
   "execution_count": 42,
   "metadata": {},
   "outputs": [
    {
     "name": "stdout",
     "output_type": "stream",
     "text": [
      "Timing FFTs\n",
      "  181.615 μs (0 allocations: 0 bytes)\n"
     ]
    }
   ],
   "source": [
    "using BenchmarkTools\n",
    "\n",
    "L = holstein.Lτ\n",
    "(N1, N2, N3) = holstein.lattice.dims\n",
    "N = N1*N2*N3\n",
    "\n",
    "s1 = randn(ComplexF64, (L, N1, N2, N3))\n",
    "s2 = zeros(ComplexF64, (L, N1, N2, N3))\n",
    "\n",
    "println(\"Timing FFTs\")\n",
    "@btime for i=1:22\n",
    "    mul!(s2, PF_op.plan, s1)\n",
    "end\n",
    ";"
   ]
  },
  {
   "cell_type": "code",
   "execution_count": 41,
   "metadata": {},
   "outputs": [
    {
     "name": "stdout",
     "output_type": "stream",
     "text": [
      "Timing preconditioner op\n",
      "  399.292 μs (0 allocations: 0 bytes)\n"
     ]
    }
   ],
   "source": [
    "r1 = randn(L*N)\n",
    "r2 = zeros(L*N)\n",
    "\n",
    "println(\"Timing preconditioner op\")\n",
    "@btime for i=1:11\n",
    "    ldiv!(r2, PF_op, r1)\n",
    "end"
   ]
  },
  {
   "cell_type": "code",
   "execution_count": 43,
   "metadata": {},
   "outputs": [
    {
     "name": "stdout",
     "output_type": "stream",
     "text": [
      "Timing matmul\n",
      "  34.745 μs (0 allocations: 0 bytes)\n"
     ]
    }
   ],
   "source": [
    "println(\"Timing matmul\")\n",
    "@btime for i=1:11\n",
    "    mul!(r2, M_op, r1)\n",
    "end"
   ]
  },
  {
   "cell_type": "markdown",
   "metadata": {},
   "source": [
    "# Profiling\n",
    "\n",
    "For some reason, it appears that the resulting flamegraphs are not entirely trustworthy."
   ]
  },
  {
   "cell_type": "code",
   "execution_count": 6,
   "metadata": {},
   "outputs": [],
   "source": [
    "using Profile\n",
    "Profile.clear()  # in case we have any previous profiling data\n",
    "\n",
    "@profile begin\n",
    "    for i = 1:100\n",
    "        fill!(x_approx, 0)\n",
    "        IterativeSolvers.bicgstabl!(x_approx, M_op, b, 1, Pl=PF_op, tol=1e-2, max_mv_products=100, initial_zero=true)\n",
    "    end\n",
    "end"
   ]
  },
  {
   "cell_type": "code",
   "execution_count": null,
   "metadata": {},
   "outputs": [],
   "source": [
    "Serialization.serialize(\"serialized_profile.dat\", Profile.retrieve())"
   ]
  },
  {
   "cell_type": "code",
   "execution_count": 19,
   "metadata": {},
   "outputs": [],
   "source": [
    "Profile.print()"
   ]
  },
  {
   "cell_type": "code",
   "execution_count": null,
   "metadata": {},
   "outputs": [],
   "source": [
    "r = Serialization.deserialize(\"serialized_profile.dat\")\n",
    "using ProfileView\n",
    "ProfileView.view(r[1], lidict=r[2])\n",
    "ProfileView.svgwrite(\"flamegraph_gmres.svg\",r[1],r[2])"
   ]
  }
 ],
 "metadata": {
  "kernelspec": {
   "display_name": "Julia O3 1.1.1",
   "language": "julia",
   "name": "julia-o3-1.1"
  },
  "language_info": {
   "file_extension": ".jl",
   "mimetype": "application/julia",
   "name": "julia",
   "version": "1.1.1"
  }
 },
 "nbformat": 4,
 "nbformat_minor": 2
}
