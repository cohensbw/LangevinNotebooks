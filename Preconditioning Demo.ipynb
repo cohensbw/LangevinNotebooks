{
 "cells": [
  {
   "cell_type": "code",
   "execution_count": 1,
   "metadata": {},
   "outputs": [],
   "source": [
    "using Revise\n",
    "\n",
    "using Langevin\n",
    "using Langevin.Preconditioners: MatrixMOp, BlockPreconditioner, FourierPreconditioner\n",
    "\n",
    "using LinearAlgebra\n",
    "using IterativeSolvers\n",
    "using SparseArrays\n",
    "using Random\n",
    "\n",
    "import Serialization\n",
    "holstein = Serialization.deserialize(\"holstein_6x6_cond106.dat\")\n",
    "\n",
    "M = Array(Langevin.HolsteinModels.construct_M(holstein))\n",
    "M_op = MatrixMOp(holstein)\n",
    "P_op = BlockPreconditioner(holstein, subtol=1e-2)\n",
    "PF_op = FourierPreconditioner(holstein)\n",
    ";"
   ]
  },
  {
   "cell_type": "code",
   "execution_count": null,
   "metadata": {},
   "outputs": [],
   "source": [
    "cond(M)"
   ]
  },
  {
   "cell_type": "markdown",
   "metadata": {},
   "source": [
    "# Accuracy measurements"
   ]
  },
  {
   "cell_type": "code",
   "execution_count": 18,
   "metadata": {},
   "outputs": [],
   "source": [
    "Random.seed!(0)\n",
    "b = randn(size(holstein)[1])\n",
    "\n",
    "x_exact = M \\ b\n",
    "x_approx = fill!(similar(b), 0)\n",
    ";"
   ]
  },
  {
   "cell_type": "code",
   "execution_count": 25,
   "metadata": {},
   "outputs": [
    {
     "name": "stdout",
     "output_type": "stream",
     "text": [
      "CG iters 286\n",
      "True error 0.005060902377033015\n"
     ]
    }
   ],
   "source": [
    "rhs = M' * b\n",
    "fill!(x_approx, 0)\n",
    "x1 = IterativeSolvers.cg!(x_approx, holstein, rhs, tol=1e-4, log=true, maxiter=1000)\n",
    "println(\"CG iters \", x1[2].iters)\n",
    "println(\"True error \", norm(x_approx - x_exact) / norm(x_exact))"
   ]
  },
  {
   "cell_type": "code",
   "execution_count": 26,
   "metadata": {},
   "outputs": [
    {
     "name": "stdout",
     "output_type": "stream",
     "text": [
      "=== gmres ===\n",
      "rest\titer\tresnorm\n",
      "  1\t  1\t8.34e+00\n",
      "  1\t  2\t2.88e+00\n",
      "  1\t  3\t1.29e+00\n",
      "  1\t  4\t4.81e-01\n",
      "  1\t  5\t2.05e-01\n",
      "  1\t  6\t7.68e-02\n",
      "\n",
      "GMRES with block preconditioner\n",
      "True error 0.004140905302401464\n"
     ]
    }
   ],
   "source": [
    "fill!(x_approx, 0)\n",
    "x2 = IterativeSolvers.gmres!(x_approx, M_op, b, Pr=P_op, tol=2e-3, restart=10, log=true, maxiter=100, initially_zero=true, verbose=true)\n",
    "\n",
    "println(\"GMRES with block preconditioner\")\n",
    "println(\"True error \", norm(x_approx - x_exact) / norm(x_exact))"
   ]
  },
  {
   "cell_type": "code",
   "execution_count": 27,
   "metadata": {},
   "outputs": [
    {
     "name": "stdout",
     "output_type": "stream",
     "text": [
      "=== gmres ===\n",
      "rest\titer\tresnorm\n",
      "  1\t  1\t9.68e+00\n",
      "  1\t  2\t4.28e+00\n",
      "  1\t  3\t2.19e+00\n",
      "  1\t  4\t1.24e+00\n",
      "  1\t  5\t7.24e-01\n",
      "  1\t  6\t4.14e-01\n",
      "  1\t  7\t2.14e-01\n",
      "  1\t  8\t9.92e-02\n",
      "\n",
      "GMRES with Fourier preconditioner\n",
      "True error 0.005586265309813534\n"
     ]
    }
   ],
   "source": [
    "fill!(x_approx, 0)\n",
    "x2 = IterativeSolvers.gmres!(x_approx, M_op, b, Pr=PF_op, tol=2e-3, restart=10, log=true, maxiter=100, initially_zero=true, verbose=true)\n",
    "\n",
    "println(\"GMRES with Fourier preconditioner\")\n",
    "println(\"True error \", norm(x_approx - x_exact) / norm(x_exact))"
   ]
  },
  {
   "cell_type": "code",
   "execution_count": 52,
   "metadata": {},
   "outputs": [
    {
     "name": "stdout",
     "output_type": "stream",
     "text": [
      "=== gmres ===\n",
      "rest\titer\tresnorm\n",
      "  1\t  1\t5.06e+01\n",
      "  1\t  2\t2.57e+01\n",
      "  1\t  3\t1.43e+01\n",
      "  1\t  4\t7.83e+00\n",
      "  1\t  5\t4.62e+00\n",
      "  1\t  6\t2.47e+00\n",
      "  1\t  7\t1.13e+00\n",
      "  1\t  8\t5.39e-01\n",
      "\n",
      "GMRES with LEFT Fourier preconditioner\n",
      "True error 0.0052154866371389936\n"
     ]
    }
   ],
   "source": [
    "fill!(x_approx, 0)\n",
    "x2 = IterativeSolvers.gmres!(x_approx, M_op, b, Pl=PF_op, tol=5e-3, restart=10, log=true, maxiter=100, initially_zero=true, verbose=true)\n",
    "\n",
    "println(\"GMRES with LEFT Fourier preconditioner\")\n",
    "println(\"True error \", norm(x_approx - x_exact) / norm(x_exact))"
   ]
  },
  {
   "cell_type": "code",
   "execution_count": 54,
   "metadata": {},
   "outputs": [
    {
     "name": "stdout",
     "output_type": "stream",
     "text": [
      "  1\t6.59e+01\n",
      "  2\t8.09e+00\n",
      "  3\t6.59e+01\n",
      "  4\t3.68e+00\n",
      "  5\t3.19e-01\n",
      "\n",
      "BiCGStab(1) with Fourier preconditioner\n",
      "True error 0.0033509204835341735\n"
     ]
    }
   ],
   "source": [
    "# BiCGStab uses internal randomness. :-(\n",
    "# Set seed to get reproducible results.\n",
    "Random.seed!(0)\n",
    "\n",
    "fill!(x_approx, 0)\n",
    "x2 = IterativeSolvers.bicgstabl!(x_approx, M_op, b, 1, Pl=PF_op, tol=1e-2, log=true, max_mv_products=100, initial_zero=true, verbose=true)\n",
    "\n",
    "println(\"BiCGStab(1) with Fourier preconditioner\")\n",
    "println(\"True error \", norm(x_approx - x_exact) / norm(x_exact))"
   ]
  },
  {
   "cell_type": "markdown",
   "metadata": {},
   "source": [
    "# Benchmarking"
   ]
  },
  {
   "cell_type": "code",
   "execution_count": 46,
   "metadata": {},
   "outputs": [
    {
     "name": "stdout",
     "output_type": "stream",
     "text": [
      "CG time...\n",
      "  3.879 ms (1243 allocations: 95.75 KiB)\n"
     ]
    }
   ],
   "source": [
    "using BenchmarkTools\n",
    "\n",
    "println(\"CG time...\")\n",
    "@btime begin\n",
    "    fill!(x_approx, 0)\n",
    "    IterativeSolvers.cg!(x_approx, holstein, b, tol=1e-4, log=true, maxiter=1000)\n",
    "end\n",
    ";"
   ]
  },
  {
   "cell_type": "code",
   "execution_count": 30,
   "metadata": {},
   "outputs": [
    {
     "name": "stdout",
     "output_type": "stream",
     "text": [
      "GMRES/Block time...\n",
      "  2.032 ms (18407 allocations: 1.37 MiB)\n"
     ]
    }
   ],
   "source": [
    "println(\"GMRES/Block time...\")\n",
    "@btime begin\n",
    "    fill!(x_approx, 0)\n",
    "    IterativeSolvers.gmres!(x_approx, M_op, b, Pr=P_op, tol=2e-3, restart=10, maxiter=100, initially_zero=true)\n",
    "end\n",
    ";"
   ]
  },
  {
   "cell_type": "code",
   "execution_count": 31,
   "metadata": {},
   "outputs": [
    {
     "name": "stdout",
     "output_type": "stream",
     "text": [
      "GMRES/Fourier time...\n",
      "  658.695 μs (118 allocations: 277.47 KiB)\n"
     ]
    }
   ],
   "source": [
    "println(\"GMRES/Fourier time...\")\n",
    "@btime begin\n",
    "    fill!(x_approx, 0)\n",
    "    IterativeSolvers.gmres!(x_approx, M_op, b, Pr=PF_op, tol=2e-3, restart=10, maxiter=100, initially_zero=true)\n",
    "end\n",
    ";"
   ]
  },
  {
   "cell_type": "code",
   "execution_count": 50,
   "metadata": {},
   "outputs": [
    {
     "name": "stdout",
     "output_type": "stream",
     "text": [
      "GMRES/Fourier time, prealloc...\n",
      "  545.088 μs (101 allocations: 5.20 KiB)\n"
     ]
    }
   ],
   "source": [
    "println(\"GMRES/Fourier time, prealloc...\")\n",
    "\n",
    "gmres = IterativeSolvers.gmres_iterable!(x_approx, M_op, b, Pr=PF_op, tol=2e-3, restart=10, maxiter=100, initially_zero=true)\n",
    "\n",
    "@btime begin\n",
    "    fill!(x_approx, 0)\n",
    "    Langevin.Preconditioners.reset_gmres_iterable!(gmres, x_approx, M_op, b, tol=2e-3, initially_zero=true)\n",
    "    Langevin.Preconditioners.run_gmres_iterable!(gmres)\n",
    "end\n",
    ";"
   ]
  },
  {
   "cell_type": "code",
   "execution_count": 55,
   "metadata": {},
   "outputs": [
    {
     "name": "stdout",
     "output_type": "stream",
     "text": [
      "BiCGStab(1)/Fourier time...\n",
      "  503.554 μs (124 allocations: 478.97 KiB)\n"
     ]
    }
   ],
   "source": [
    "println(\"BiCGStab(1)/Fourier time...\")\n",
    "\n",
    "Random.seed!(0)\n",
    "\n",
    "@btime begin\n",
    "    fill!(x_approx, 0)\n",
    "    x2 = IterativeSolvers.bicgstabl!(x_approx, M_op, b, 1, Pl=PF_op, tol=1e-2, max_mv_products=100, initial_zero=true)\n",
    "end\n",
    ";"
   ]
  },
  {
   "cell_type": "markdown",
   "metadata": {},
   "source": [
    "## For reference, cost of raw FFT and raw precond ops"
   ]
  },
  {
   "cell_type": "code",
   "execution_count": 42,
   "metadata": {},
   "outputs": [
    {
     "name": "stdout",
     "output_type": "stream",
     "text": [
      "Timing FFTs\n",
      "  181.615 μs (0 allocations: 0 bytes)\n"
     ]
    }
   ],
   "source": [
    "using BenchmarkTools\n",
    "\n",
    "L = holstein.Lτ\n",
    "(N1, N2, N3) = holstein.lattice.dims\n",
    "N = N1*N2*N3\n",
    "\n",
    "s1 = randn(ComplexF64, (L, N1, N2, N3))\n",
    "s2 = zeros(ComplexF64, (L, N1, N2, N3))\n",
    "\n",
    "println(\"Timing FFTs\")\n",
    "@btime for i=1:22\n",
    "    mul!(s2, PF_op.plan, s1)\n",
    "end\n",
    ";"
   ]
  },
  {
   "cell_type": "code",
   "execution_count": 41,
   "metadata": {},
   "outputs": [
    {
     "name": "stdout",
     "output_type": "stream",
     "text": [
      "Timing preconditioner op\n",
      "  399.292 μs (0 allocations: 0 bytes)\n"
     ]
    }
   ],
   "source": [
    "r1 = randn(L*N)\n",
    "r2 = zeros(L*N)\n",
    "\n",
    "println(\"Timing preconditioner op\")\n",
    "@btime for i=1:11\n",
    "    ldiv!(r2, PF_op, r1)\n",
    "end"
   ]
  },
  {
   "cell_type": "code",
   "execution_count": 43,
   "metadata": {},
   "outputs": [
    {
     "name": "stdout",
     "output_type": "stream",
     "text": [
      "Timing matmul\n",
      "  34.745 μs (0 allocations: 0 bytes)\n"
     ]
    }
   ],
   "source": [
    "println(\"Timing matmul\")\n",
    "@btime for i=1:11\n",
    "    mul!(r2, M_op, r1)\n",
    "end"
   ]
  },
  {
   "cell_type": "markdown",
   "metadata": {},
   "source": [
    "# Profiling\n",
    "\n",
    "For some reason, it appears that the resulting flamegraphs are not entirely trustworthy."
   ]
  },
  {
   "cell_type": "code",
   "execution_count": 6,
   "metadata": {},
   "outputs": [],
   "source": [
    "using Profile\n",
    "Profile.clear()  # in case we have any previous profiling data\n",
    "\n",
    "@profile begin\n",
    "    for i = 1:100\n",
    "        fill!(x_approx, 0)\n",
    "        IterativeSolvers.bicgstabl!(x_approx, M_op, b, 1, Pl=PF_op, tol=1e-2, max_mv_products=100, initial_zero=true)\n",
    "    end\n",
    "end"
   ]
  },
  {
   "cell_type": "code",
   "execution_count": null,
   "metadata": {},
   "outputs": [],
   "source": [
    "Serialization.serialize(\"serialized_profile.dat\", Profile.retrieve())"
   ]
  },
  {
   "cell_type": "code",
   "execution_count": 19,
   "metadata": {},
   "outputs": [],
   "source": [
    "Profile.print()"
   ]
  },
  {
   "cell_type": "code",
   "execution_count": null,
   "metadata": {},
   "outputs": [],
   "source": [
    "r = Serialization.deserialize(\"serialized_profile.dat\")\n",
    "using ProfileView\n",
    "ProfileView.view(r[1], lidict=r[2])\n",
    "ProfileView.svgwrite(\"flamegraph_gmres.svg\",r[1],r[2])"
   ]
  }
 ],
 "metadata": {
  "kernelspec": {
   "display_name": "Julia O3 1.1.1",
   "language": "julia",
   "name": "julia-o3-1.1"
  },
  "language_info": {
   "file_extension": ".jl",
   "mimetype": "application/julia",
   "name": "julia",
   "version": "1.1.1"
  }
 },
 "nbformat": 4,
 "nbformat_minor": 2
}
