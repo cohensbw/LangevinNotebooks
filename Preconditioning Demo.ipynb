{
 "cells": [
  {
   "cell_type": "code",
   "execution_count": 1,
   "metadata": {},
   "outputs": [
    {
     "name": "stderr",
     "output_type": "stream",
     "text": [
      "┌ Info: Recompiling stale cache file /Users/kbarros/.julia/compiled/v1.1/Langevin/nUpf1.ji for Langevin [d56e79bc-9d16-11e9-1337-85b17f59915c]\n",
      "└ @ Base loading.jl:1184\n"
     ]
    }
   ],
   "source": [
    "using Langevin\n",
    "import Serialization\n",
    "holstein = Serialization.deserialize(\"holstein_6x6_cond106.dat\")\n",
    ";"
   ]
  },
  {
   "cell_type": "code",
   "execution_count": 2,
   "metadata": {},
   "outputs": [
    {
     "data": {
      "text/plain": [
       "105.99637038875237"
      ]
     },
     "execution_count": 2,
     "metadata": {},
     "output_type": "execute_result"
    }
   ],
   "source": [
    "using LinearAlgebra\n",
    "using IterativeSolvers\n",
    "using SparseArrays\n",
    "using Random\n",
    "\n",
    "M = Array(Langevin.HolsteinModels.construct_M(holstein))\n",
    "cond(M)"
   ]
  },
  {
   "cell_type": "markdown",
   "metadata": {},
   "source": [
    "# Accuracy measurements"
   ]
  },
  {
   "cell_type": "code",
   "execution_count": 3,
   "metadata": {},
   "outputs": [],
   "source": [
    "Random.seed!(0)\n",
    "b = randn(size(holstein)[1])\n",
    "\n",
    "x_exact = M \\ b\n",
    "x_approx = fill!(similar(b), 0)\n",
    ";"
   ]
  },
  {
   "cell_type": "code",
   "execution_count": 4,
   "metadata": {},
   "outputs": [
    {
     "name": "stdout",
     "output_type": "stream",
     "text": [
      "CG iters 286\n",
      "True error 0.005060902377033015\n"
     ]
    }
   ],
   "source": [
    "rhs = M' * b\n",
    "fill!(x_approx, 0)\n",
    "x1 = IterativeSolvers.cg!(x_approx, holstein, rhs, tol=1e-4, log=true, maxiter=1000)\n",
    "println(\"CG iters \", x1[2].iters)\n",
    "println(\"True error \", norm(x_approx - x_exact) / norm(x_exact))"
   ]
  },
  {
   "cell_type": "code",
   "execution_count": 5,
   "metadata": {},
   "outputs": [],
   "source": [
    "using Langevin.Preconditioners: MatrixMOp, BlockPreconditioner, FourierPreconditioner\n",
    "M_op = MatrixMOp(holstein)\n",
    "P_op = BlockPreconditioner(holstein, subtol=1e-2)\n",
    "PF_op = FourierPreconditioner(holstein)\n",
    ";"
   ]
  },
  {
   "cell_type": "code",
   "execution_count": 6,
   "metadata": {},
   "outputs": [
    {
     "name": "stdout",
     "output_type": "stream",
     "text": [
      "=== gmres ===\n",
      "rest\titer\tresnorm\n",
      "  1\t  1\t8.34e+00\n",
      "  1\t  2\t2.88e+00\n",
      "  1\t  3\t1.29e+00\n",
      "  1\t  4\t4.81e-01\n",
      "  1\t  5\t2.05e-01\n",
      "  1\t  6\t7.68e-02\n",
      "\n",
      "GMRES with block preconditioner\n",
      "True error 0.004140905302401464\n"
     ]
    }
   ],
   "source": [
    "fill!(x_approx, 0)\n",
    "x2 = IterativeSolvers.gmres!(x_approx, M_op, b, Pr=P_op, tol=2e-3, restart=10, log=true, maxiter=100, initially_zero=true, verbose=true)\n",
    "\n",
    "println(\"GMRES with block preconditioner\")\n",
    "println(\"True error \", norm(x_approx - x_exact) / norm(x_exact))"
   ]
  },
  {
   "cell_type": "code",
   "execution_count": 7,
   "metadata": {},
   "outputs": [
    {
     "name": "stdout",
     "output_type": "stream",
     "text": [
      "=== gmres ===\n",
      "rest\titer\tresnorm\n",
      "  1\t  1\t9.68e+00\n",
      "  1\t  2\t4.28e+00\n",
      "  1\t  3\t2.19e+00\n",
      "  1\t  4\t1.24e+00\n",
      "  1\t  5\t7.24e-01\n",
      "  1\t  6\t4.14e-01\n",
      "  1\t  7\t2.14e-01\n",
      "  1\t  8\t9.92e-02\n",
      "\n",
      "GMRES with Fourier preconditioner\n",
      "True error 0.005586265309813574\n"
     ]
    }
   ],
   "source": [
    "fill!(x_approx, 0)\n",
    "x2 = IterativeSolvers.gmres!(x_approx, M_op, b, Pr=PF_op, tol=2e-3, restart=10, log=true, maxiter=100, initially_zero=true, verbose=true)\n",
    "\n",
    "println(\"GMRES with Fourier preconditioner\")\n",
    "println(\"True error \", norm(x_approx - x_exact) / norm(x_exact))"
   ]
  },
  {
   "cell_type": "code",
   "execution_count": 8,
   "metadata": {},
   "outputs": [
    {
     "name": "stdout",
     "output_type": "stream",
     "text": [
      "  1\t6.59e+01\n",
      "  2\t8.09e+00\n",
      "  3\t6.59e+01\n",
      "  4\t3.68e+00\n",
      "  5\t3.19e-01\n",
      "\n",
      "BiCGStab(1) with Fourier preconditioner\n",
      "True error 0.0033509204835340724\n"
     ]
    }
   ],
   "source": [
    "# BiCGStab uses internal randomness. :-(\n",
    "# Set seed to get reproducible results.\n",
    "Random.seed!(0)\n",
    "\n",
    "fill!(x_approx, 0)\n",
    "x2 = IterativeSolvers.bicgstabl!(x_approx, M_op, b, 1, Pl=PF_op, tol=1e-2, log=true, max_mv_products=100, initial_zero=true, verbose=true)\n",
    "\n",
    "println(\"BiCGStab(1) with Fourier preconditioner\")\n",
    "println(\"True error \", norm(x_approx - x_exact) / norm(x_exact))"
   ]
  },
  {
   "cell_type": "markdown",
   "metadata": {},
   "source": [
    "# Benchmarking"
   ]
  },
  {
   "cell_type": "code",
   "execution_count": 9,
   "metadata": {},
   "outputs": [
    {
     "name": "stdout",
     "output_type": "stream",
     "text": [
      "CG time...\n",
      "  2.567 ms (880 allocations: 90.08 KiB)\n"
     ]
    }
   ],
   "source": [
    "using BenchmarkTools\n",
    "\n",
    "println(\"CG time...\")\n",
    "@btime begin\n",
    "    fill!(x_approx, 0)\n",
    "    IterativeSolvers.cg!(x_approx, holstein, rhs, tol=1e-4, log=true, maxiter=1000)\n",
    "end\n",
    ";"
   ]
  },
  {
   "cell_type": "code",
   "execution_count": 10,
   "metadata": {},
   "outputs": [
    {
     "name": "stdout",
     "output_type": "stream",
     "text": [
      "GMRES/Block time...\n",
      "  2.062 ms (18407 allocations: 1.37 MiB)\n"
     ]
    }
   ],
   "source": [
    "println(\"GMRES/Block time...\")\n",
    "@btime begin\n",
    "    fill!(x_approx, 0)\n",
    "    IterativeSolvers.gmres!(x_approx, M_op, b, Pr=P_op, tol=2e-3, restart=10, maxiter=100, initially_zero=true)\n",
    "end\n",
    ";"
   ]
  },
  {
   "cell_type": "code",
   "execution_count": 11,
   "metadata": {},
   "outputs": [
    {
     "name": "stdout",
     "output_type": "stream",
     "text": [
      "GMRES/Fourier time...\n",
      "  953.505 μs (253 allocations: 285.20 KiB)\n"
     ]
    }
   ],
   "source": [
    "println(\"GMRES/Fourier time...\")\n",
    "@btime begin\n",
    "    fill!(x_approx, 0)\n",
    "    IterativeSolvers.gmres!(x_approx, M_op, b, Pr=PF_op, tol=2e-3, restart=10, maxiter=100, initially_zero=true)\n",
    "end\n",
    ";"
   ]
  },
  {
   "cell_type": "code",
   "execution_count": 15,
   "metadata": {},
   "outputs": [
    {
     "name": "stdout",
     "output_type": "stream",
     "text": [
      "GMRES/Fourier time, prealloc...\n",
      "  850.559 μs (236 allocations: 12.94 KiB)\n"
     ]
    }
   ],
   "source": [
    "println(\"GMRES/Fourier time, prealloc...\")\n",
    "\n",
    "gmres = IterativeSolvers.gmres_iterable!(x_approx, M_op, b, Pr=PF_op, tol=2e-3, restart=10, maxiter=100, initially_zero=true)\n",
    "\n",
    "@btime begin\n",
    "    fill!(x_approx, 0)\n",
    "    Langevin.Preconditioners.reset_gmres_iterable!(gmres, x_approx, M_op, b, tol=2e-3, initially_zero=true)\n",
    "    Langevin.Preconditioners.run_gmres_iterable!(gmres)\n",
    "end\n",
    ";"
   ]
  },
  {
   "cell_type": "code",
   "execution_count": 16,
   "metadata": {},
   "outputs": [
    {
     "name": "stdout",
     "output_type": "stream",
     "text": [
      "BiCGStab(1)/Fourier time...\n",
      "  833.554 μs (259 allocations: 486.70 KiB)\n"
     ]
    }
   ],
   "source": [
    "println(\"BiCGStab(1)/Fourier time...\")\n",
    "\n",
    "Random.seed!(0)\n",
    "\n",
    "@btime begin\n",
    "    fill!(x_approx, 0)\n",
    "    x2 = IterativeSolvers.bicgstabl!(x_approx, M_op, b, 1, Pl=PF_op, tol=1e-2, max_mv_products=100, initial_zero=true)\n",
    "end\n",
    ";"
   ]
  },
  {
   "cell_type": "markdown",
   "metadata": {},
   "source": [
    "# Profiling\n",
    "\n",
    "For some reason, it appears that the resulting flamegraphs are not entirely trustworthy."
   ]
  },
  {
   "cell_type": "code",
   "execution_count": 6,
   "metadata": {},
   "outputs": [],
   "source": [
    "using Profile\n",
    "Profile.clear()  # in case we have any previous profiling data\n",
    "\n",
    "@profile begin\n",
    "    for i = 1:100\n",
    "        fill!(x_approx, 0)\n",
    "        IterativeSolvers.bicgstabl!(x_approx, M_op, b, 1, Pl=PF_op, tol=1e-2, max_mv_products=100, initial_zero=true)\n",
    "    end\n",
    "end"
   ]
  },
  {
   "cell_type": "code",
   "execution_count": null,
   "metadata": {},
   "outputs": [],
   "source": [
    "Serialization.serialize(\"serialized_profile.dat\", Profile.retrieve())"
   ]
  },
  {
   "cell_type": "code",
   "execution_count": 19,
   "metadata": {},
   "outputs": [],
   "source": [
    "Profile.print()"
   ]
  },
  {
   "cell_type": "code",
   "execution_count": null,
   "metadata": {},
   "outputs": [],
   "source": [
    "r = Serialization.deserialize(\"serialized_profile.dat\")\n",
    "using ProfileView\n",
    "ProfileView.view(r[1], lidict=r[2])\n",
    "ProfileView.svgwrite(\"flamegraph_gmres.svg\",r[1],r[2])"
   ]
  }
 ],
 "metadata": {
  "kernelspec": {
   "display_name": "Julia O3 1.1.1",
   "language": "julia",
   "name": "julia-o3-1.1"
  },
  "language_info": {
   "file_extension": ".jl",
   "mimetype": "application/julia",
   "name": "julia",
   "version": "1.1.1"
  }
 },
 "nbformat": 4,
 "nbformat_minor": 2
}
