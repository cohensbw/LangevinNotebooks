{
 "cells": [
  {
   "cell_type": "code",
   "execution_count": 1,
   "metadata": {},
   "outputs": [],
   "source": [
    "using Revise"
   ]
  },
  {
   "cell_type": "code",
   "execution_count": 2,
   "metadata": {},
   "outputs": [
    {
     "name": "stderr",
     "output_type": "stream",
     "text": [
      "┌ Info: Recompiling stale cache file /home/benwcs/.julia/compiled/v1.1/Langevin/nUpf1.ji for Langevin [d56e79bc-9d16-11e9-1337-85b17f59915c]\n",
      "└ @ Base loading.jl:1184\n"
     ]
    }
   ],
   "source": [
    "using Langevin\n",
    "using Langevin.Geometries: Geometry\n",
    "using Langevin.Lattices: Lattice\n",
    "using Langevin.Lattices: loc_to_cell, loc_to_site, site_to_site\n",
    "using Langevin.Lattices: translationally_equivalent_sets\n",
    "using Langevin.Lattices: calc_neighbor_table, sort_neighbor_table!\n",
    "using Langevin.Lattices: site_to_site_vec!, site_to_site_vec"
   ]
  },
  {
   "cell_type": "markdown",
   "metadata": {},
   "source": [
    "## Define Square Lattice"
   ]
  },
  {
   "cell_type": "code",
   "execution_count": 3,
   "metadata": {},
   "outputs": [
    {
     "name": "stdout",
     "output_type": "stream",
     "text": [
      "\u001b[0m\u001b[1mLattice{Float64}\u001b[22m\n",
      "\n",
      "•ndim = 2\n",
      "•norbits = 1\n",
      "•ncells = 100\n",
      "•nsites = 100\n",
      "•dims = [L1, L2, L3] = [10, 10, 1]\n",
      "\n",
      "•site_to_orbit: Array{Int64,1}(100,)\n",
      "•site_to_cell: Array{Int64,1}(100,)\n",
      "\n",
      "•cell_loc =\n",
      "3×100 Array{Int64,2}:\n",
      " 0  1  2  3  4  5  6  7  8  9  0  1  2  …  8  9  0  1  2  3  4  5  6  7  8  9\n",
      " 0  0  0  0  0  0  0  0  0  0  1  1  1     8  8  9  9  9  9  9  9  9  9  9  9\n",
      " 0  0  0  0  0  0  0  0  0  0  0  0  0     0  0  0  0  0  0  0  0  0  0  0  0\n",
      "\n",
      "•positions =\n",
      "3×100 Array{Float64,2}:\n",
      " 0.0  1.0  2.0  3.0  4.0  5.0  6.0  7.0  …  3.0  4.0  5.0  6.0  7.0  8.0  9.0\n",
      " 0.0  0.0  0.0  0.0  0.0  0.0  0.0  0.0     9.0  9.0  9.0  9.0  9.0  9.0  9.0\n",
      " 0.0  0.0  0.0  0.0  0.0  0.0  0.0  0.0     0.0  0.0  0.0  0.0  0.0  0.0  0.0\n",
      "\n",
      "•kpoints =\n",
      "3×100 Array{Float64,2}:\n",
      " 0.0  0.628319  1.25664  1.88496  …  3.76991  4.39823  5.02655  5.65487\n",
      " 0.0  0.0       0.0      0.0         5.65487  5.65487  5.65487  5.65487\n",
      " 0.0  0.0       0.0      0.0         0.0      0.0      0.0      0.0    "
     ]
    }
   ],
   "source": [
    "# number of dimensions\n",
    "ndim = 2\n",
    "\n",
    "# number of orbitals per unit cell\n",
    "norbits = 1\n",
    "\n",
    "# lattice vectors\n",
    "lvecs = [[1.0,0.0],\n",
    "         [0.0,1.0]]\n",
    "\n",
    "# basis vectors\n",
    "bvecs = [[0.0,0.0]]\n",
    "\n",
    "# defining square lattice geometry\n",
    "square = Geometry(ndim, norbits, lvecs, bvecs)\n",
    "\n",
    "# size of lattice\n",
    "L = 10\n",
    "\n",
    "# construct lattice\n",
    "lsquare = Lattice(square,L)\n",
    "\n",
    "print(lsquare)"
   ]
  },
  {
   "cell_type": "markdown",
   "metadata": {},
   "source": [
    "## Define Square Lattice Using Float32"
   ]
  },
  {
   "cell_type": "code",
   "execution_count": 4,
   "metadata": {},
   "outputs": [
    {
     "name": "stdout",
     "output_type": "stream",
     "text": [
      "\u001b[0m\u001b[1mLattice{Float32}\u001b[22m\n",
      "\n",
      "•ndim = 2\n",
      "•norbits = 1\n",
      "•ncells = 16\n",
      "•nsites = 16\n",
      "•dims = [L1, L2, L3] = [4, 4, 1]\n",
      "\n",
      "•site_to_orbit: Array{Int64,1}(16,)\n",
      "•site_to_cell: Array{Int64,1}(16,)\n",
      "\n",
      "•cell_loc =\n",
      "3×16 Array{Int64,2}:\n",
      " 0  1  2  3  0  1  2  3  0  1  2  3  0  1  2  3\n",
      " 0  0  0  0  1  1  1  1  2  2  2  2  3  3  3  3\n",
      " 0  0  0  0  0  0  0  0  0  0  0  0  0  0  0  0\n",
      "\n",
      "•positions =\n",
      "3×16 Array{Float32,2}:\n",
      " 0.0  1.0  2.0  3.0  0.0  1.0  2.0  3.0  …  1.0  2.0  3.0  0.0  1.0  2.0  3.0\n",
      " 0.0  0.0  0.0  0.0  1.0  1.0  1.0  1.0     2.0  2.0  2.0  3.0  3.0  3.0  3.0\n",
      " 0.0  0.0  0.0  0.0  0.0  0.0  0.0  0.0     0.0  0.0  0.0  0.0  0.0  0.0  0.0\n",
      "\n",
      "•kpoints =\n",
      "3×16 Array{Float32,2}:\n",
      " 0.0  1.5708  3.14159  4.71239  0.0     …  0.0      1.5708   3.14159  4.71239\n",
      " 0.0  0.0     0.0      0.0      1.5708     4.71239  4.71239  4.71239  4.71239\n",
      " 0.0  0.0     0.0      0.0      0.0        0.0      0.0      0.0      0.0    "
     ]
    }
   ],
   "source": [
    "# number of dimensions\n",
    "ndim = 2\n",
    "\n",
    "# number of orbitals per unit cell\n",
    "norbits = 1\n",
    "\n",
    "# lattice vectors\n",
    "lvecs = [Float32[1.0,0.0],\n",
    "         Float32[0.0,1.0]]\n",
    "\n",
    "# basis vectors\n",
    "bvecs = [Float32[0.0,0.0]]\n",
    "\n",
    "# defining square lattice geometry\n",
    "square32 = Geometry(ndim, norbits, lvecs, bvecs)\n",
    "\n",
    "# size of lattice\n",
    "L = 4\n",
    "\n",
    "# construct lattice\n",
    "lsquare32 = Lattice(square32,L)\n",
    "\n",
    "print(lsquare32)"
   ]
  },
  {
   "cell_type": "markdown",
   "metadata": {},
   "source": [
    "## Define Honeycomb Lattice"
   ]
  },
  {
   "cell_type": "code",
   "execution_count": 5,
   "metadata": {},
   "outputs": [
    {
     "name": "stdout",
     "output_type": "stream",
     "text": [
      "\u001b[0m\u001b[1mLattice{Float64}\u001b[22m\n",
      "\n",
      "•ndim = 2\n",
      "•norbits = 2\n",
      "•ncells = 36\n",
      "•nsites = 72\n",
      "•dims = [L1, L2, L3] = [6, 6, 1]\n",
      "\n",
      "•site_to_orbit: Array{Int64,1}(72,)\n",
      "•site_to_cell: Array{Int64,1}(72,)\n",
      "\n",
      "•cell_loc =\n",
      "3×36 Array{Int64,2}:\n",
      " 0  1  2  3  4  5  0  1  2  3  4  5  0  …  0  1  2  3  4  5  0  1  2  3  4  5\n",
      " 0  0  0  0  0  0  1  1  1  1  1  1  2     4  4  4  4  4  4  5  5  5  5  5  5\n",
      " 0  0  0  0  0  0  0  0  0  0  0  0  0     0  0  0  0  0  0  0  0  0  0  0  0\n",
      "\n",
      "•positions =\n",
      "3×72 Array{Float64,2}:\n",
      " 0.0  0.0  1.73205  1.73205  3.4641  …  11.2583  11.2583  12.9904  12.9904\n",
      " 0.0  1.0  0.0      1.0      0.0         7.5      8.5      7.5      8.5   \n",
      " 0.0  0.0  0.0      0.0      0.0         0.0      0.0      0.0      0.0   \n",
      "\n",
      "•kpoints =\n",
      "3×36 Array{Float64,2}:\n",
      " 0.0  0.6046  1.2092  1.8138  2.4184  3.023  …  0.0684701  0.67307  1.27767\n",
      " 0.0  0.0     0.0     0.0     0.0     0.0       3.49066    3.49066  3.49066\n",
      " 0.0  0.0     0.0     0.0     0.0     0.0       0.0        0.0      0.0    "
     ]
    }
   ],
   "source": [
    "# number of dimensions\n",
    "ndim = 2\n",
    "\n",
    "# number of orbitals per unit cell\n",
    "norbits = 2\n",
    "\n",
    "# lattice vectors\n",
    "lvecs = [[√3.0,     0.0],\n",
    "         [√3.0/2.0, 1.5]]\n",
    "\n",
    "# basis vectors\n",
    "bvecs = [[0.0,0.0],\n",
    "         [0.0,1.0]]\n",
    "\n",
    "# defining square lattice geometry\n",
    "honeycomb = Geometry(ndim, norbits, lvecs, bvecs)\n",
    "\n",
    "# size of lattice\n",
    "L = 6\n",
    "\n",
    "# construct lattice\n",
    "lhoneycomb = Lattice(honeycomb,L)\n",
    "\n",
    "print(lhoneycomb)"
   ]
  },
  {
   "cell_type": "markdown",
   "metadata": {},
   "source": [
    "## Define Cubic Lattice"
   ]
  },
  {
   "cell_type": "code",
   "execution_count": 6,
   "metadata": {},
   "outputs": [
    {
     "name": "stdout",
     "output_type": "stream",
     "text": [
      "\u001b[0m\u001b[1mLattice{Float64}\u001b[22m\n",
      "\n",
      "•ndim = 3\n",
      "•norbits = 1\n",
      "•ncells = 480\n",
      "•nsites = 480\n",
      "•dims = [L1, L2, L3] = [8, 6, 10]\n",
      "\n",
      "•site_to_orbit: Array{Int64,1}(480,)\n",
      "•site_to_cell: Array{Int64,1}(480,)\n",
      "\n",
      "•cell_loc =\n",
      "3×480 Array{Int64,2}:\n",
      " 0  1  2  3  4  5  6  7  0  1  2  3  4  …  4  5  6  7  0  1  2  3  4  5  6  7\n",
      " 0  0  0  0  0  0  0  0  1  1  1  1  1     4  4  4  4  5  5  5  5  5  5  5  5\n",
      " 0  0  0  0  0  0  0  0  0  0  0  0  0     9  9  9  9  9  9  9  9  9  9  9  9\n",
      "\n",
      "•positions =\n",
      "3×480 Array{Float64,2}:\n",
      " 0.0  1.0  2.0  3.0  4.0  5.0  6.0  7.0  …  1.0  2.0  3.0  4.0  5.0  6.0  7.0\n",
      " 0.0  0.0  0.0  0.0  0.0  0.0  0.0  0.0     5.0  5.0  5.0  5.0  5.0  5.0  5.0\n",
      " 0.0  0.0  0.0  0.0  0.0  0.0  0.0  0.0     9.0  9.0  9.0  9.0  9.0  9.0  9.0\n",
      "\n",
      "•kpoints =\n",
      "3×480 Array{Float64,2}:\n",
      " 0.0  0.785398  1.5708  2.35619  …  3.14159  3.92699  4.71239  5.49779\n",
      " 0.0  0.0       0.0     0.0         5.23599  5.23599  5.23599  5.23599\n",
      " 0.0  0.0       0.0     0.0         5.65487  5.65487  5.65487  5.65487"
     ]
    }
   ],
   "source": [
    "# number of dimensions\n",
    "ndim = 3\n",
    "\n",
    "# number of orbitals per unit cell\n",
    "norbits = 1\n",
    "\n",
    "# lattice vectors\n",
    "lvecs = [[1.0,0.0,0.0],\n",
    "         [0.0,1.0,0.0],\n",
    "         [0.0,0.0,1.0]]\n",
    "\n",
    "# basis vectors\n",
    "bvecs = [[0.0,0.0,0.0]]\n",
    "\n",
    "# defining square lattice geometry\n",
    "cubic = Geometry(ndim, norbits, lvecs, bvecs)\n",
    "\n",
    "# size of lattice\n",
    "L1 = 8\n",
    "L2 = 6\n",
    "L3 = 10\n",
    "\n",
    "# construct lattice\n",
    "lcubic = Lattice(cubic,L1,L2,L3)\n",
    "\n",
    "print(lcubic)"
   ]
  },
  {
   "cell_type": "markdown",
   "metadata": {},
   "source": [
    "## Location to Cell\n",
    "\n",
    "Suppose your lattice has dimensions `L1, L2 and L3`<br>\n",
    "Therefore, the number of unit cells in the lattice is `ncells = L1 x L2 x L3`<br>\n",
    "The the location of each labled unit cell `[1,2,...,ncells]` is given by three pieces of information: `[l1,l2,l3]` where `0<=li<Li`."
   ]
  },
  {
   "cell_type": "code",
   "execution_count": 7,
   "metadata": {},
   "outputs": [
    {
     "data": {
      "text/plain": [
       "83"
      ]
     },
     "execution_count": 7,
     "metadata": {},
     "output_type": "execute_result"
    }
   ],
   "source": [
    "loc_to_cell(lcubic,[2,4,1])"
   ]
  },
  {
   "cell_type": "markdown",
   "metadata": {},
   "source": [
    "## Location to Site\n",
    "\n",
    "Suppose your lattice has dimensions `L1, L2 and L3` and `norbits` orbitals per unit cell.<br>\n",
    "Therefore, the number of sites in the lattice is `ncells = L1 x L2 x L3 x norbits`<br>\n",
    "The the location of each labled sites `[1,2,...,nsites]` is given by four pieces of information: `[l1,l2,l3,orbit]` where `0<=li<Li` and `1<orbit<=norbits`."
   ]
  },
  {
   "cell_type": "code",
   "execution_count": 8,
   "metadata": {},
   "outputs": [
    {
     "data": {
      "text/plain": [
       "83"
      ]
     },
     "execution_count": 8,
     "metadata": {},
     "output_type": "execute_result"
    }
   ],
   "source": [
    "loc_to_site(lcubic,[2,4,1],1)"
   ]
  },
  {
   "cell_type": "markdown",
   "metadata": {},
   "source": [
    "## Initial Site + ( Displacement , Orbit ) = Final Site"
   ]
  },
  {
   "cell_type": "code",
   "execution_count": 9,
   "metadata": {},
   "outputs": [
    {
     "data": {
      "text/plain": [
       "24"
      ]
     },
     "execution_count": 9,
     "metadata": {},
     "output_type": "execute_result"
    }
   ],
   "source": [
    "# intial site\n",
    "isite = 3\n",
    "\n",
    "# displacement in unit cells\n",
    "displacement = [1,2,0]\n",
    "\n",
    "# type of orbital of final site\n",
    "orbit = 1\n",
    "\n",
    "site_to_site(lsquare,isite,displacement,orbit)"
   ]
  },
  {
   "cell_type": "markdown",
   "metadata": {},
   "source": [
    "## Construct Sets of Translationally Equivalent Pairs of Sites"
   ]
  },
  {
   "cell_type": "code",
   "execution_count": 10,
   "metadata": {
    "scrolled": true
   },
   "outputs": [
    {
     "data": {
      "text/plain": [
       "(2, 100, 1, 1, 10, 10, 1)"
      ]
     },
     "execution_count": 10,
     "metadata": {},
     "output_type": "execute_result"
    }
   ],
   "source": [
    "trans_equiv_sets = translationally_equivalent_sets(lsquare)\n",
    "size(trans_equiv_sets)"
   ]
  },
  {
   "cell_type": "markdown",
   "metadata": {},
   "source": [
    "## Get Neighboring Sites\n",
    "\n",
    "Constructs pairs of neighbors sites given a specified displacement in the lattice."
   ]
  },
  {
   "cell_type": "code",
   "execution_count": 11,
   "metadata": {},
   "outputs": [
    {
     "data": {
      "text/plain": [
       "2×100 Array{Int64,2}:\n",
       " 1  2  3  4  5  6  7  8   9  10  11  12  …  93  94  95  96  97  98   99  100\n",
       " 2  3  4  5  6  7  8  9  10   1  12  13     94  95  96  97  98  99  100   91"
      ]
     },
     "execution_count": 11,
     "metadata": {},
     "output_type": "execute_result"
    }
   ],
   "source": [
    "orbit1 = 1\n",
    "orbit2 = 1\n",
    "displacement = [1,0,0]\n",
    "calc_neighbor_table(lsquare,orbit1,orbit2,displacement)"
   ]
  },
  {
   "cell_type": "code",
   "execution_count": null,
   "metadata": {},
   "outputs": [],
   "source": []
  }
 ],
 "metadata": {
  "kernelspec": {
   "display_name": "Julia 1.1.1",
   "language": "julia",
   "name": "julia-1.1"
  },
  "language_info": {
   "file_extension": ".jl",
   "mimetype": "application/julia",
   "name": "julia",
   "version": "1.1.1"
  }
 },
 "nbformat": 4,
 "nbformat_minor": 2
}
