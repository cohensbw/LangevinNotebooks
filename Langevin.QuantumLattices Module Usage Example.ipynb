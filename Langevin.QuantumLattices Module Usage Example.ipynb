{
 "cells": [
  {
   "cell_type": "code",
   "execution_count": 1,
   "metadata": {},
   "outputs": [],
   "source": [
    "using Revise"
   ]
  },
  {
   "cell_type": "code",
   "execution_count": 2,
   "metadata": {},
   "outputs": [],
   "source": [
    "using Langevin\n",
    "using Langevin.Geometries: Geometry\n",
    "using Langevin.Lattices: Lattice\n",
    "using Langevin.QuantumLattices: QuantumLattice"
   ]
  },
  {
   "cell_type": "code",
   "execution_count": 3,
   "metadata": {},
   "outputs": [
    {
     "name": "stdout",
     "output_type": "stream",
     "text": [
      "\u001b[0m\u001b[1mQuantumLattice{Float64}\u001b[22m\n",
      "\n",
      "•β = 3.0\n",
      "•Δτ = 0.1\n",
      "•Lτ = 30\n",
      "•nsites = 100\n",
      "•nindices = 3000\n",
      "\n",
      "•index_to_τ: Array{Int64,1}(3000,)\n",
      "•index_to_site: Array{Int64,1}(3000,)\n",
      "•to_index: Array{Int64,2}(100, 30)\n"
     ]
    }
   ],
   "source": [
    "# number of dimensions\n",
    "ndim = 2\n",
    "\n",
    "# number of orbitals per unit cell\n",
    "norbits = 1\n",
    "\n",
    "# lattice vectors\n",
    "lvecs = [[1.0,0.0],\n",
    "         [0.0,1.0]]\n",
    "\n",
    "# basis vectors\n",
    "bvecs = [[0.0,0.0]]\n",
    "\n",
    "# defining square lattice geometry\n",
    "square = Geometry(ndim, norbits, lvecs, bvecs)\n",
    "\n",
    "# size of lattice\n",
    "L = 10\n",
    "\n",
    "# construct lattice\n",
    "lsquare = Lattice(square,L)\n",
    "\n",
    "# temperatures info\n",
    "β = 3.0\n",
    "Δτ = 0.1\n",
    "\n",
    "qlsquare = QuantumLattice(lsquare,β,Δτ)\n",
    "\n",
    "print(qlsquare)"
   ]
  },
  {
   "cell_type": "code",
   "execution_count": null,
   "metadata": {},
   "outputs": [],
   "source": []
  }
 ],
 "metadata": {
  "kernelspec": {
   "display_name": "Julia 1.1.1",
   "language": "julia",
   "name": "julia-1.1"
  },
  "language_info": {
   "file_extension": ".jl",
   "mimetype": "application/julia",
   "name": "julia",
   "version": "1.1.1"
  }
 },
 "nbformat": 4,
 "nbformat_minor": 2
}
